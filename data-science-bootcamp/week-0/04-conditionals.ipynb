{
  "nbformat": 4,
  "nbformat_minor": 0,
  "metadata": {
    "colab": {
      "provenance": [],
      "authorship_tag": "ABX9TyNPdpsZ71TqVgVeSM7/pO3Z",
      "include_colab_link": true
    },
    "kernelspec": {
      "name": "python3",
      "display_name": "Python 3"
    },
    "language_info": {
      "name": "python"
    }
  },
  "cells": [
    {
      "cell_type": "markdown",
      "metadata": {
        "id": "view-in-github",
        "colab_type": "text"
      },
      "source": [
        "<a href=\"https://colab.research.google.com/github/theruleofcats/data-science/blob/main/data-science-bootcamp/week-0/04-conditionals.ipynb\" target=\"_parent\"><img src=\"https://colab.research.google.com/assets/colab-badge.svg\" alt=\"Open In Colab\"/></a>"
      ]
    },
    {
      "cell_type": "markdown",
      "source": [
        "## if-else statements"
      ],
      "metadata": {
        "id": "GMIL9awkktZo"
      }
    },
    {
      "cell_type": "code",
      "source": [
        "if (5 > 3):\n",
        "  print(\"hello\")"
      ],
      "metadata": {
        "colab": {
          "base_uri": "https://localhost:8080/"
        },
        "id": "LjUEjNtFk431",
        "outputId": "3d52be47-1931-486c-8f60-3a7cf473eaeb"
      },
      "execution_count": 1,
      "outputs": [
        {
          "output_type": "stream",
          "name": "stdout",
          "text": [
            "hello\n"
          ]
        }
      ]
    },
    {
      "cell_type": "code",
      "source": [
        "if (3 < 2):\n",
        "  print(\"hello\")\n",
        "else:\n",
        "  print(\"the condition was not true\")"
      ],
      "metadata": {
        "colab": {
          "base_uri": "https://localhost:8080/"
        },
        "id": "VHFiCZ3KlJCJ",
        "outputId": "a43a4661-8154-41a8-abbe-c343eadfc49f"
      },
      "execution_count": 2,
      "outputs": [
        {
          "output_type": "stream",
          "name": "stdout",
          "text": [
            "the condition was not true\n"
          ]
        }
      ]
    },
    {
      "cell_type": "code",
      "source": [
        "if None:\n",
        "  print(\"hi\")\n",
        "\n",
        "if 0:\n",
        "  print(\"hi\")"
      ],
      "metadata": {
        "id": "zREttByxmjUI"
      },
      "execution_count": 13,
      "outputs": []
    },
    {
      "cell_type": "code",
      "source": [
        "z = 4\n",
        "if (z % 2 == 0):\n",
        "  print(\"z is even\")"
      ],
      "metadata": {
        "colab": {
          "base_uri": "https://localhost:8080/"
        },
        "id": "sV_V3VGem_EL",
        "outputId": "dddcd9a2-3f82-4729-9f08-ebe0e4e33213"
      },
      "execution_count": 14,
      "outputs": [
        {
          "output_type": "stream",
          "name": "stdout",
          "text": [
            "z is even\n"
          ]
        }
      ]
    },
    {
      "cell_type": "code",
      "source": [
        "z = 5\n",
        "if (z % 2 == 0):\n",
        "  print(\"z is even\")\n",
        "else:\n",
        "  print(\"z is odd\")"
      ],
      "metadata": {
        "colab": {
          "base_uri": "https://localhost:8080/"
        },
        "id": "UwRRuJMyndb1",
        "outputId": "15e282c3-6d5e-4912-ed5d-3e92519bffb2"
      },
      "execution_count": 15,
      "outputs": [
        {
          "output_type": "stream",
          "name": "stdout",
          "text": [
            "z is odd\n"
          ]
        }
      ]
    },
    {
      "cell_type": "markdown",
      "source": [
        "## relational operators"
      ],
      "metadata": {
        "id": "lbDM5waHlmrT"
      }
    },
    {
      "cell_type": "code",
      "source": [
        "print(3 >= 2)\n",
        "print(3 <= 2)"
      ],
      "metadata": {
        "colab": {
          "base_uri": "https://localhost:8080/"
        },
        "id": "MnQ9YOcSlSmQ",
        "outputId": "132a6943-f16a-4673-ea52-f4656ea3b6d5"
      },
      "execution_count": 8,
      "outputs": [
        {
          "output_type": "stream",
          "name": "stdout",
          "text": [
            "True\n",
            "False\n"
          ]
        }
      ]
    },
    {
      "cell_type": "code",
      "source": [
        "print(3 == 3)\n",
        "name = \"me\"\n",
        "print(3 == 2)\n",
        "print(3 != 2)"
      ],
      "metadata": {
        "colab": {
          "base_uri": "https://localhost:8080/"
        },
        "id": "ZTWjPgrAllaW",
        "outputId": "0fb77744-3dc5-4b64-d684-df6238bf2ae1"
      },
      "execution_count": 9,
      "outputs": [
        {
          "output_type": "stream",
          "name": "stdout",
          "text": [
            "True\n",
            "False\n",
            "True\n"
          ]
        }
      ]
    },
    {
      "cell_type": "markdown",
      "source": [
        "## the elif statement"
      ],
      "metadata": {
        "id": "SyXSs6prmCQM"
      }
    },
    {
      "cell_type": "code",
      "source": [
        "age = 16\n",
        "if (age < 13):\n",
        "  print(\"you are young\")\n",
        "elif (age >= 13 and age < 18):\n",
        "  print(\"you are a teenager\")\n",
        "else:\n",
        "  print(\"you are an adult\")"
      ],
      "metadata": {
        "colab": {
          "base_uri": "https://localhost:8080/"
        },
        "id": "5-dSCajel7JC",
        "outputId": "6780e5b5-f9d1-474a-f534-ba6b4ce14dee"
      },
      "execution_count": 10,
      "outputs": [
        {
          "output_type": "stream",
          "name": "stdout",
          "text": [
            "you are a teenager\n"
          ]
        }
      ]
    },
    {
      "cell_type": "code",
      "source": [
        "if (5 > 3 and 2 > 1):\n",
        "  print(\"hi\")"
      ],
      "metadata": {
        "colab": {
          "base_uri": "https://localhost:8080/"
        },
        "id": "J5PVJKvumVW5",
        "outputId": "b9030522-fe6a-4cbe-cb09-04cb829f2b26"
      },
      "execution_count": 11,
      "outputs": [
        {
          "output_type": "stream",
          "name": "stdout",
          "text": [
            "hi\n"
          ]
        }
      ]
    },
    {
      "cell_type": "code",
      "source": [
        "if (5 > 3 or 2 < 1):\n",
        "  print(\"hi\")"
      ],
      "metadata": {
        "colab": {
          "base_uri": "https://localhost:8080/"
        },
        "id": "WYpbIwHGmesJ",
        "outputId": "c5b9904d-d306-4bf2-ef9a-b975d5ccd4f4"
      },
      "execution_count": 12,
      "outputs": [
        {
          "output_type": "stream",
          "name": "stdout",
          "text": [
            "hi\n"
          ]
        }
      ]
    },
    {
      "cell_type": "code",
      "source": [
        "z = 5\n",
        "\n",
        "if (z % 2 == 0):\n",
        "  print(\"z is divisible by 2\")\n",
        "elif (z % 3 == 0):\n",
        "  print(\"z is divisible by 3\")\n",
        "else:\n",
        "  print(\"z is divisible neither by 2 nor by 3\")"
      ],
      "metadata": {
        "colab": {
          "base_uri": "https://localhost:8080/"
        },
        "id": "qBWvw_y_nHtz",
        "outputId": "e83919dd-a3e1-4147-af73-fbf5b71e178a"
      },
      "execution_count": 16,
      "outputs": [
        {
          "output_type": "stream",
          "name": "stdout",
          "text": [
            "z is divisible neither by 2 nor by 3\n"
          ]
        }
      ]
    }
  ]
}