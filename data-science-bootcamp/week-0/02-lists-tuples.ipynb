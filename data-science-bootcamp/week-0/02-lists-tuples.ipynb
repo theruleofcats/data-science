{
  "nbformat": 4,
  "nbformat_minor": 0,
  "metadata": {
    "colab": {
      "provenance": [],
      "authorship_tag": "ABX9TyONx4tOdzEa4rUeTJGM9tih",
      "include_colab_link": true
    },
    "kernelspec": {
      "name": "python3",
      "display_name": "Python 3"
    },
    "language_info": {
      "name": "python"
    }
  },
  "cells": [
    {
      "cell_type": "markdown",
      "metadata": {
        "id": "view-in-github",
        "colab_type": "text"
      },
      "source": [
        "<a href=\"https://colab.research.google.com/github/theruleofcats/data-science/blob/main/data-science-bootcamp/week-0/02-lists-tuples.ipynb\" target=\"_parent\"><img src=\"https://colab.research.google.com/assets/colab-badge.svg\" alt=\"Open In Colab\"/></a>"
      ]
    },
    {
      "cell_type": "markdown",
      "source": [
        "## lists"
      ],
      "metadata": {
        "id": "gDD_dvB22b1p"
      }
    },
    {
      "cell_type": "code",
      "source": [
        "A = [\"brush\", \"leuven\", 488519, 3.14, \"mom\"]\n",
        "A = [\"morning walk\", \"leuven\", 488519, 3.14, \"mom\"]"
      ],
      "metadata": {
        "id": "X9NuzZAB2aoe"
      },
      "execution_count": null,
      "outputs": []
    },
    {
      "cell_type": "code",
      "source": [
        "item1 = \"bread\"\n",
        "item2 = \"pasta\"\n",
        "item3 = \"fruits\""
      ],
      "metadata": {
        "id": "Xzwez2HJ28Ju"
      },
      "execution_count": null,
      "outputs": []
    },
    {
      "cell_type": "code",
      "source": [
        "items = [\"bread\", \"pasta\", \"fruits\", \"veggies\"]"
      ],
      "metadata": {
        "id": "Yfw42kXW3VVv"
      },
      "execution_count": null,
      "outputs": []
    },
    {
      "cell_type": "code",
      "source": [
        "items"
      ],
      "metadata": {
        "colab": {
          "base_uri": "https://localhost:8080/"
        },
        "id": "FyyXAfgc3hn4",
        "outputId": "e0fbc579-b2ed-4c8a-ce31-e2d09e08bbd1"
      },
      "execution_count": null,
      "outputs": [
        {
          "output_type": "execute_result",
          "data": {
            "text/plain": [
              "['bread', 'pasta', 'fruits', 'veggies']"
            ]
          },
          "metadata": {},
          "execution_count": 4
        }
      ]
    },
    {
      "cell_type": "code",
      "source": [
        "items[0]"
      ],
      "metadata": {
        "colab": {
          "base_uri": "https://localhost:8080/",
          "height": 35
        },
        "id": "_-_Vltwk3paD",
        "outputId": "c59f4e68-17ce-45fa-9076-418d396eefd4"
      },
      "execution_count": null,
      "outputs": [
        {
          "output_type": "execute_result",
          "data": {
            "text/plain": [
              "'bread'"
            ],
            "application/vnd.google.colaboratory.intrinsic+json": {
              "type": "string"
            }
          },
          "metadata": {},
          "execution_count": 5
        }
      ]
    },
    {
      "cell_type": "code",
      "source": [
        "items[2]"
      ],
      "metadata": {
        "colab": {
          "base_uri": "https://localhost:8080/",
          "height": 35
        },
        "id": "78Kdhgre3uuh",
        "outputId": "ee6be1fa-918d-4a42-9925-caf463c65b61"
      },
      "execution_count": null,
      "outputs": [
        {
          "output_type": "execute_result",
          "data": {
            "text/plain": [
              "'fruits'"
            ],
            "application/vnd.google.colaboratory.intrinsic+json": {
              "type": "string"
            }
          },
          "metadata": {},
          "execution_count": 6
        }
      ]
    },
    {
      "cell_type": "code",
      "source": [
        "items[0] = \"chips\" # changing element value"
      ],
      "metadata": {
        "id": "2S7RsbxH3wU4"
      },
      "execution_count": null,
      "outputs": []
    },
    {
      "cell_type": "code",
      "source": [
        "items"
      ],
      "metadata": {
        "colab": {
          "base_uri": "https://localhost:8080/"
        },
        "id": "XSzok07p3z4W",
        "outputId": "d28f8811-3c2e-4395-f28a-93b28981f9e8"
      },
      "execution_count": null,
      "outputs": [
        {
          "output_type": "execute_result",
          "data": {
            "text/plain": [
              "['chips', 'pasta', 'fruits', 'veggies']"
            ]
          },
          "metadata": {},
          "execution_count": 8
        }
      ]
    },
    {
      "cell_type": "code",
      "source": [
        "items[0:2] # sub index range"
      ],
      "metadata": {
        "colab": {
          "base_uri": "https://localhost:8080/"
        },
        "id": "ks7jI_dA30jb",
        "outputId": "101f6a1c-1b53-4f70-fb0b-381a2b0248fd"
      },
      "execution_count": null,
      "outputs": [
        {
          "output_type": "execute_result",
          "data": {
            "text/plain": [
              "['chips', 'pasta']"
            ]
          },
          "metadata": {},
          "execution_count": 9
        }
      ]
    },
    {
      "cell_type": "code",
      "source": [
        "items[-1] # negative indexing"
      ],
      "metadata": {
        "colab": {
          "base_uri": "https://localhost:8080/",
          "height": 35
        },
        "id": "guBXCnBn4AYI",
        "outputId": "c0ac6f4e-4701-4580-9f5f-f7d57f3582dd"
      },
      "execution_count": null,
      "outputs": [
        {
          "output_type": "execute_result",
          "data": {
            "text/plain": [
              "'veggies'"
            ],
            "application/vnd.google.colaboratory.intrinsic+json": {
              "type": "string"
            }
          },
          "metadata": {},
          "execution_count": 10
        }
      ]
    },
    {
      "cell_type": "markdown",
      "source": [
        "## list methods"
      ],
      "metadata": {
        "id": "6cY12hUV4E4L"
      }
    },
    {
      "cell_type": "code",
      "source": [
        "items = [\"bread\", \"pasta\", \"fruits\", \"veggies\"]\n",
        "print(items)"
      ],
      "metadata": {
        "colab": {
          "base_uri": "https://localhost:8080/"
        },
        "id": "3h-3O1nO4C3A",
        "outputId": "7b5830cf-9a2f-4813-8b7f-4e125d32762a"
      },
      "execution_count": null,
      "outputs": [
        {
          "output_type": "stream",
          "name": "stdout",
          "text": [
            "['bread', 'pasta', 'fruits', 'veggies']\n"
          ]
        }
      ]
    },
    {
      "cell_type": "code",
      "source": [
        "# append\n",
        "items.append(\"butter\")\n",
        "print(items)"
      ],
      "metadata": {
        "colab": {
          "base_uri": "https://localhost:8080/"
        },
        "id": "3IvnfrOd4O8e",
        "outputId": "b2f94e82-44ba-4808-923d-6335f86e9df0"
      },
      "execution_count": null,
      "outputs": [
        {
          "output_type": "stream",
          "name": "stdout",
          "text": [
            "['bread', 'pasta', 'fruits', 'veggies', 'butter']\n"
          ]
        }
      ]
    },
    {
      "cell_type": "code",
      "source": [
        "orders = [\"daisies\", \"periwinkle\"]\n",
        "orders"
      ],
      "metadata": {
        "colab": {
          "base_uri": "https://localhost:8080/"
        },
        "id": "O6Pa22N356kH",
        "outputId": "d8f3a7fb-a39e-43c3-9177-7d8e8d5f19ec"
      },
      "execution_count": null,
      "outputs": [
        {
          "output_type": "execute_result",
          "data": {
            "text/plain": [
              "['daisies', 'periwinkle']"
            ]
          },
          "metadata": {},
          "execution_count": 13
        }
      ]
    },
    {
      "cell_type": "code",
      "source": [
        "orders.append(\"tuplis\")\n",
        "print(orders)"
      ],
      "metadata": {
        "colab": {
          "base_uri": "https://localhost:8080/"
        },
        "id": "ll4kK5kJ5_aR",
        "outputId": "e70cadb4-6d6a-4fcf-b712-9f9491b5cdc3"
      },
      "execution_count": null,
      "outputs": [
        {
          "output_type": "stream",
          "name": "stdout",
          "text": [
            "['daisies', 'periwinkle', 'tuplis']\n"
          ]
        }
      ]
    },
    {
      "cell_type": "code",
      "source": [
        "# insert\n",
        "items = [\"bread\", \"pasta\", \"fruits\", \"veggies\"]\n",
        "items.insert(1, \"butter\")"
      ],
      "metadata": {
        "id": "X0QNFkTZ4U7t"
      },
      "execution_count": null,
      "outputs": []
    },
    {
      "cell_type": "code",
      "source": [
        "items"
      ],
      "metadata": {
        "colab": {
          "base_uri": "https://localhost:8080/"
        },
        "id": "4A61eThd4pDa",
        "outputId": "a657c4cc-9e2a-4b55-b5bf-bc085eef05b7"
      },
      "execution_count": null,
      "outputs": [
        {
          "output_type": "execute_result",
          "data": {
            "text/plain": [
              "['bread', 'butter', 'pasta', 'fruits', 'veggies']"
            ]
          },
          "metadata": {},
          "execution_count": 16
        }
      ]
    },
    {
      "cell_type": "code",
      "source": [
        "# concatenation\n",
        "food = [\"bread\", \"pasta\", \"fruits\"]\n",
        "bathroom = [\"shampoo\", \"soap\"]\n",
        "items = food + bathroom"
      ],
      "metadata": {
        "id": "KtuvQLas4ptv"
      },
      "execution_count": null,
      "outputs": []
    },
    {
      "cell_type": "code",
      "source": [
        "items"
      ],
      "metadata": {
        "colab": {
          "base_uri": "https://localhost:8080/"
        },
        "id": "A7wipsBQ47SB",
        "outputId": "74b41efe-a706-4c6d-de22-7d3134af69d4"
      },
      "execution_count": null,
      "outputs": [
        {
          "output_type": "execute_result",
          "data": {
            "text/plain": [
              "['bread', 'pasta', 'fruits', 'shampoo', 'soap']"
            ]
          },
          "metadata": {},
          "execution_count": 18
        }
      ]
    },
    {
      "cell_type": "code",
      "source": [
        "len(items)"
      ],
      "metadata": {
        "colab": {
          "base_uri": "https://localhost:8080/"
        },
        "id": "nbmnXrsY473R",
        "outputId": "c4aabfe4-a88c-43df-aad8-241f294273f6"
      },
      "execution_count": null,
      "outputs": [
        {
          "output_type": "execute_result",
          "data": {
            "text/plain": [
              "5"
            ]
          },
          "metadata": {},
          "execution_count": 19
        }
      ]
    },
    {
      "cell_type": "code",
      "source": [
        "\"bread\" in items"
      ],
      "metadata": {
        "colab": {
          "base_uri": "https://localhost:8080/"
        },
        "id": "PrADHTVc5Fux",
        "outputId": "29ec16a4-af0a-4a58-f2a8-33357ee25629"
      },
      "execution_count": null,
      "outputs": [
        {
          "output_type": "execute_result",
          "data": {
            "text/plain": [
              "True"
            ]
          },
          "metadata": {},
          "execution_count": 20
        }
      ]
    },
    {
      "cell_type": "code",
      "source": [
        "\"soda\" in items"
      ],
      "metadata": {
        "colab": {
          "base_uri": "https://localhost:8080/"
        },
        "id": "kBjINqax5MZN",
        "outputId": "eff7bc34-8b28-44c7-b6f5-de48aa3120eb"
      },
      "execution_count": null,
      "outputs": [
        {
          "output_type": "execute_result",
          "data": {
            "text/plain": [
              "False"
            ]
          },
          "metadata": {},
          "execution_count": 21
        }
      ]
    },
    {
      "cell_type": "code",
      "source": [
        "expenses = [2200, 2350, 2600, 2130, 2190]"
      ],
      "metadata": {
        "id": "8jpvpiKO5NY9"
      },
      "execution_count": null,
      "outputs": []
    },
    {
      "cell_type": "code",
      "source": [
        "expenses[1] - expenses[0]"
      ],
      "metadata": {
        "colab": {
          "base_uri": "https://localhost:8080/"
        },
        "id": "DarmRUab5aAD",
        "outputId": "fa555ca9-382b-451c-fa42-e72f7334f959"
      },
      "execution_count": null,
      "outputs": [
        {
          "output_type": "execute_result",
          "data": {
            "text/plain": [
              "150"
            ]
          },
          "metadata": {},
          "execution_count": 23
        }
      ]
    },
    {
      "cell_type": "code",
      "source": [
        "expenses[0] + expenses[1] + expenses[2]"
      ],
      "metadata": {
        "colab": {
          "base_uri": "https://localhost:8080/"
        },
        "id": "heQyMm1J5c_B",
        "outputId": "d9c73fc0-07c3-4dee-9bfb-e79445e899c5"
      },
      "execution_count": null,
      "outputs": [
        {
          "output_type": "execute_result",
          "data": {
            "text/plain": [
              "7150"
            ]
          },
          "metadata": {},
          "execution_count": 24
        }
      ]
    },
    {
      "cell_type": "code",
      "source": [
        "2000 in expenses"
      ],
      "metadata": {
        "colab": {
          "base_uri": "https://localhost:8080/"
        },
        "id": "sKCCfMt-5h7r",
        "outputId": "1f4e5e5e-f476-4c3b-b51e-0a2d16dcb959"
      },
      "execution_count": null,
      "outputs": [
        {
          "output_type": "execute_result",
          "data": {
            "text/plain": [
              "False"
            ]
          },
          "metadata": {},
          "execution_count": 25
        }
      ]
    },
    {
      "cell_type": "code",
      "source": [
        "expenses.append(1980)\n",
        "expenses"
      ],
      "metadata": {
        "colab": {
          "base_uri": "https://localhost:8080/"
        },
        "id": "r6FnLD-l5k9i",
        "outputId": "c9139a25-f998-4691-a6ee-7c69aac1fbeb"
      },
      "execution_count": null,
      "outputs": [
        {
          "output_type": "execute_result",
          "data": {
            "text/plain": [
              "[2200, 2350, 2600, 2130, 2190, 1980]"
            ]
          },
          "metadata": {},
          "execution_count": 26
        }
      ]
    },
    {
      "cell_type": "code",
      "source": [
        "expenses[3] = expenses[3] - 200\n",
        "expenses"
      ],
      "metadata": {
        "colab": {
          "base_uri": "https://localhost:8080/"
        },
        "id": "1kQHAXmX5phA",
        "outputId": "78620a65-a4df-4e9d-fc3e-9ca517b6d209"
      },
      "execution_count": null,
      "outputs": [
        {
          "output_type": "execute_result",
          "data": {
            "text/plain": [
              "[2200, 2350, 2600, 1930, 2190, 1980]"
            ]
          },
          "metadata": {},
          "execution_count": 27
        }
      ]
    },
    {
      "cell_type": "code",
      "source": [
        "# count"
      ],
      "metadata": {
        "id": "rhdoNH5i5zkn"
      },
      "execution_count": null,
      "outputs": []
    },
    {
      "cell_type": "code",
      "source": [
        "backpack = [\"pencil\", \"pen\", \"notebook\", \"textbook\", \"pen\", \"highlighter\", \"pen\"]\n",
        "numPen = backpack.count(\"pen\")"
      ],
      "metadata": {
        "id": "aPQ3hbSa6Dd8"
      },
      "execution_count": null,
      "outputs": []
    },
    {
      "cell_type": "code",
      "source": [
        "print(numPen)"
      ],
      "metadata": {
        "colab": {
          "base_uri": "https://localhost:8080/"
        },
        "id": "6Gyb3W4g6NzB",
        "outputId": "87eae084-860a-42de-bd27-b6e046203d96"
      },
      "execution_count": null,
      "outputs": [
        {
          "output_type": "stream",
          "name": "stdout",
          "text": [
            "3\n"
          ]
        }
      ]
    },
    {
      "cell_type": "code",
      "source": [
        "print(len(backpack))"
      ],
      "metadata": {
        "colab": {
          "base_uri": "https://localhost:8080/"
        },
        "id": "kBUx2wRf6Oya",
        "outputId": "ea2600ed-dc8a-4496-bc22-2a9fae44f34a"
      },
      "execution_count": null,
      "outputs": [
        {
          "output_type": "stream",
          "name": "stdout",
          "text": [
            "7\n"
          ]
        }
      ]
    },
    {
      "cell_type": "code",
      "source": [
        "# sort\n",
        "exampleList = [4, 2, 1, 3]\n",
        "exampleList.sort()"
      ],
      "metadata": {
        "id": "2V5y_-is6Tj2"
      },
      "execution_count": null,
      "outputs": []
    },
    {
      "cell_type": "code",
      "source": [
        "print(exampleList)"
      ],
      "metadata": {
        "colab": {
          "base_uri": "https://localhost:8080/"
        },
        "id": "knZLxBb76YuO",
        "outputId": "03acf2f7-62d8-4cd8-97d8-efc02c778099"
      },
      "execution_count": null,
      "outputs": [
        {
          "output_type": "stream",
          "name": "stdout",
          "text": [
            "[1, 2, 3, 4]\n"
          ]
        }
      ]
    },
    {
      "cell_type": "markdown",
      "source": [
        "## tuples"
      ],
      "metadata": {
        "id": "gBDbzuOD6a8G"
      }
    },
    {
      "cell_type": "code",
      "source": [
        "A = (\"brush\", \"leuven\", 48851, 3.14, \"mom\")"
      ],
      "metadata": {
        "id": "TlG_J6et6Z5_"
      },
      "execution_count": null,
      "outputs": []
    },
    {
      "cell_type": "code",
      "source": [
        "x = (1, 5, 3, 4, 8)\n",
        "print(x)"
      ],
      "metadata": {
        "colab": {
          "base_uri": "https://localhost:8080/"
        },
        "id": "w2ljQVVs6kQM",
        "outputId": "9c0088dc-d6a3-4d3e-efe0-f9d6981e084d"
      },
      "execution_count": null,
      "outputs": [
        {
          "output_type": "stream",
          "name": "stdout",
          "text": [
            "(1, 5, 3, 4, 8)\n"
          ]
        }
      ]
    },
    {
      "cell_type": "code",
      "source": [
        "x[0]"
      ],
      "metadata": {
        "colab": {
          "base_uri": "https://localhost:8080/"
        },
        "id": "K8elASg461e5",
        "outputId": "9b3410cd-1a05-4dae-9801-9ab969808831"
      },
      "execution_count": null,
      "outputs": [
        {
          "output_type": "execute_result",
          "data": {
            "text/plain": [
              "1"
            ]
          },
          "metadata": {},
          "execution_count": 36
        }
      ]
    },
    {
      "cell_type": "code",
      "source": [
        "x[4]"
      ],
      "metadata": {
        "colab": {
          "base_uri": "https://localhost:8080/"
        },
        "id": "Y0eXb0BY63_c",
        "outputId": "93573477-5ad4-4f87-9941-457e3a4ecc4d"
      },
      "execution_count": null,
      "outputs": [
        {
          "output_type": "execute_result",
          "data": {
            "text/plain": [
              "8"
            ]
          },
          "metadata": {},
          "execution_count": 37
        }
      ]
    },
    {
      "cell_type": "markdown",
      "source": [
        "## tuple methods"
      ],
      "metadata": {
        "id": "X7NR_R7D7Dg9"
      }
    },
    {
      "cell_type": "code",
      "source": [
        "x.count(8)"
      ],
      "metadata": {
        "colab": {
          "base_uri": "https://localhost:8080/"
        },
        "id": "iUAmx6aU65LR",
        "outputId": "744a0410-23c5-485e-fd91-25375d9ae576"
      },
      "execution_count": null,
      "outputs": [
        {
          "output_type": "execute_result",
          "data": {
            "text/plain": [
              "1"
            ]
          },
          "metadata": {},
          "execution_count": 38
        }
      ]
    },
    {
      "cell_type": "code",
      "source": [
        "len(x)"
      ],
      "metadata": {
        "colab": {
          "base_uri": "https://localhost:8080/"
        },
        "id": "v4CpEZTY7F9o",
        "outputId": "b92fc16f-85ef-492f-fe64-2dfcad1187ad"
      },
      "execution_count": null,
      "outputs": [
        {
          "output_type": "execute_result",
          "data": {
            "text/plain": [
              "5"
            ]
          },
          "metadata": {},
          "execution_count": 39
        }
      ]
    },
    {
      "cell_type": "code",
      "source": [
        "y = (1, \"max\", 1.6)\n",
        "print(y)"
      ],
      "metadata": {
        "colab": {
          "base_uri": "https://localhost:8080/"
        },
        "id": "pC88U6vv7P8r",
        "outputId": "55c68264-3b14-4869-9a88-20d19ee6c116"
      },
      "execution_count": null,
      "outputs": [
        {
          "output_type": "stream",
          "name": "stdout",
          "text": [
            "(1, 'max', 1.6)\n"
          ]
        }
      ]
    },
    {
      "cell_type": "code",
      "source": [
        "z = x + y\n",
        "print(z)"
      ],
      "metadata": {
        "colab": {
          "base_uri": "https://localhost:8080/"
        },
        "id": "hoBMmz6L7XKW",
        "outputId": "a300a795-8880-4454-d640-b1a6be76a7ec"
      },
      "execution_count": null,
      "outputs": [
        {
          "output_type": "stream",
          "name": "stdout",
          "text": [
            "(1, 5, 3, 4, 8, 1, 'max', 1.6)\n"
          ]
        }
      ]
    },
    {
      "cell_type": "code",
      "source": [
        "a = (\"hi\",) * 5\n",
        "print(a)"
      ],
      "metadata": {
        "colab": {
          "base_uri": "https://localhost:8080/"
        },
        "id": "AKK8CG9f7bSL",
        "outputId": "99928aa4-c221-4617-f388-be96d2e64c5f"
      },
      "execution_count": null,
      "outputs": [
        {
          "output_type": "stream",
          "name": "stdout",
          "text": [
            "('hi', 'hi', 'hi', 'hi', 'hi')\n"
          ]
        }
      ]
    },
    {
      "cell_type": "code",
      "source": [
        "a[2]"
      ],
      "metadata": {
        "colab": {
          "base_uri": "https://localhost:8080/"
        },
        "id": "mkaJp0qs7jxV",
        "outputId": "8ad96c4f-736a-4e05-9901-d4a9cd6b6cdd"
      },
      "execution_count": null,
      "outputs": [
        {
          "output_type": "execute_result",
          "data": {
            "text/plain": [
              "'hi'"
            ],
            "application/vnd.google.colaboratory.intrinsic+json": {
              "type": "string"
            }
          },
          "metadata": {},
          "execution_count": 43
        }
      ]
    },
    {
      "cell_type": "code",
      "source": [
        "max(x)"
      ],
      "metadata": {
        "colab": {
          "base_uri": "https://localhost:8080/"
        },
        "id": "SA5-89f97lw5",
        "outputId": "36ab8253-15f6-4233-f943-0efee4015446"
      },
      "execution_count": null,
      "outputs": [
        {
          "output_type": "execute_result",
          "data": {
            "text/plain": [
              "8"
            ]
          },
          "metadata": {},
          "execution_count": 44
        }
      ]
    },
    {
      "cell_type": "code",
      "source": [
        "min(x)"
      ],
      "metadata": {
        "colab": {
          "base_uri": "https://localhost:8080/"
        },
        "id": "7kREp6WK7nNO",
        "outputId": "3a6eba1b-7dc7-42a9-bf82-7cc9298ad924"
      },
      "execution_count": null,
      "outputs": [
        {
          "output_type": "execute_result",
          "data": {
            "text/plain": [
              "1"
            ]
          },
          "metadata": {},
          "execution_count": 45
        }
      ]
    },
    {
      "cell_type": "code",
      "source": [
        "del z"
      ],
      "metadata": {
        "id": "_jd5I4Ac7phQ"
      },
      "execution_count": null,
      "outputs": []
    }
  ]
}