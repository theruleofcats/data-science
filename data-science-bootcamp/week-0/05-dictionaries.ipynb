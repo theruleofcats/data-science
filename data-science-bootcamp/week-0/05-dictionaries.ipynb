{
  "nbformat": 4,
  "nbformat_minor": 0,
  "metadata": {
    "colab": {
      "provenance": [],
      "authorship_tag": "ABX9TyPAGt7ga/WOn2RaDojeo1u1",
      "include_colab_link": true
    },
    "kernelspec": {
      "name": "python3",
      "display_name": "Python 3"
    },
    "language_info": {
      "name": "python"
    }
  },
  "cells": [
    {
      "cell_type": "markdown",
      "metadata": {
        "id": "view-in-github",
        "colab_type": "text"
      },
      "source": [
        "<a href=\"https://colab.research.google.com/github/theruleofcats/data-science/blob/main/data-science-bootcamp/week-0/05-dictionaries.ipynb\" target=\"_parent\"><img src=\"https://colab.research.google.com/assets/colab-badge.svg\" alt=\"Open In Colab\"/></a>"
      ]
    },
    {
      "cell_type": "code",
      "source": [
        "d = {}"
      ],
      "metadata": {
        "id": "HT5OE-DHotuR"
      },
      "execution_count": 1,
      "outputs": []
    },
    {
      "cell_type": "code",
      "source": [
        "d = dict()"
      ],
      "metadata": {
        "id": "t3rccmM3owVf"
      },
      "execution_count": 2,
      "outputs": []
    },
    {
      "cell_type": "code",
      "execution_count": 3,
      "metadata": {
        "id": "kwe7bbuAoaAH"
      },
      "outputs": [],
      "source": [
        "d = {\n",
        "    \"george\" : 24,\n",
        "    \"tom\" : 32,\n",
        "    \"jenny\" : 16\n",
        "}"
      ]
    },
    {
      "cell_type": "code",
      "source": [
        "my_dict = {\n",
        "    1: \"blue\",\n",
        "    2: \"yellow\",\n",
        "    3: \"red\"\n",
        "}"
      ],
      "metadata": {
        "id": "ZII9m-h1pvJG"
      },
      "execution_count": 19,
      "outputs": []
    },
    {
      "cell_type": "markdown",
      "source": [
        "## adding key-value pairs"
      ],
      "metadata": {
        "id": "TXOhc0XHpjFr"
      }
    },
    {
      "cell_type": "code",
      "source": [
        "empty = {}"
      ],
      "metadata": {
        "id": "voZcSUxho4QF"
      },
      "execution_count": 4,
      "outputs": []
    },
    {
      "cell_type": "code",
      "source": [
        "empty[\"george\"] = 24\n",
        "empty[\"tom\"] = 32\n",
        "empty[\"jenny\"] = 16"
      ],
      "metadata": {
        "id": "CQHQcf2Vo8mV"
      },
      "execution_count": 6,
      "outputs": []
    },
    {
      "cell_type": "code",
      "source": [
        "print(empty[\"george\"])"
      ],
      "metadata": {
        "colab": {
          "base_uri": "https://localhost:8080/"
        },
        "id": "RCoQatiNo_-7",
        "outputId": "de0d1a03-6e90-4515-91d9-433b694df831"
      },
      "execution_count": 7,
      "outputs": [
        {
          "output_type": "stream",
          "name": "stdout",
          "text": [
            "24\n"
          ]
        }
      ]
    },
    {
      "cell_type": "code",
      "source": [
        "print(empty[\"tom\"])"
      ],
      "metadata": {
        "colab": {
          "base_uri": "https://localhost:8080/"
        },
        "id": "riBeHvQ3pK4N",
        "outputId": "694c35ab-263b-43d4-d765-ef6a00dc81fc"
      },
      "execution_count": 8,
      "outputs": [
        {
          "output_type": "stream",
          "name": "stdout",
          "text": [
            "32\n"
          ]
        }
      ]
    },
    {
      "cell_type": "code",
      "source": [
        "print(empty[\"jenny\"])\n",
        "empty[\"jenny\"] = 20"
      ],
      "metadata": {
        "colab": {
          "base_uri": "https://localhost:8080/"
        },
        "id": "Q3Dv4YDQpMKW",
        "outputId": "49cbcb51-ed2b-41de-bb2e-7015cad9b2bd"
      },
      "execution_count": 10,
      "outputs": [
        {
          "output_type": "stream",
          "name": "stdout",
          "text": [
            "16\n"
          ]
        }
      ]
    },
    {
      "cell_type": "code",
      "source": [
        "print(empty[\"jenny\"])"
      ],
      "metadata": {
        "colab": {
          "base_uri": "https://localhost:8080/"
        },
        "id": "YBa2su5gpRcN",
        "outputId": "c23eb865-0bcc-4f50-aaaf-f69745edb7d3"
      },
      "execution_count": 11,
      "outputs": [
        {
          "output_type": "stream",
          "name": "stdout",
          "text": [
            "20\n"
          ]
        }
      ]
    },
    {
      "cell_type": "code",
      "source": [
        "empty[10] = 100"
      ],
      "metadata": {
        "id": "zqh9ICh_pYc7"
      },
      "execution_count": 12,
      "outputs": []
    },
    {
      "cell_type": "code",
      "source": [
        "print(empty[10])"
      ],
      "metadata": {
        "colab": {
          "base_uri": "https://localhost:8080/"
        },
        "id": "P79pRNDfpbzl",
        "outputId": "85ba14cc-42a8-4e45-ba1d-00aa0e2db28b"
      },
      "execution_count": 13,
      "outputs": [
        {
          "output_type": "stream",
          "name": "stdout",
          "text": [
            "100\n"
          ]
        }
      ]
    },
    {
      "cell_type": "markdown",
      "source": [
        "## iteration"
      ],
      "metadata": {
        "id": "7kNZIUonpfHo"
      }
    },
    {
      "cell_type": "code",
      "source": [
        "for key, value in empty.items():\n",
        "  print(\"key : \" + str(key))\n",
        "  print(\"value : \" + str(value))"
      ],
      "metadata": {
        "colab": {
          "base_uri": "https://localhost:8080/"
        },
        "id": "y_ptI5hypdK3",
        "outputId": "3ff6b289-1c2e-49ca-836d-1aa53e2b8f38"
      },
      "execution_count": 20,
      "outputs": [
        {
          "output_type": "stream",
          "name": "stdout",
          "text": [
            "key : george\n",
            "value : 24\n",
            "key : tom\n",
            "value : 32\n",
            "key : jenny\n",
            "value : 20\n",
            "key : 10\n",
            "value : 100\n"
          ]
        }
      ]
    },
    {
      "cell_type": "code",
      "source": [
        "world = {\n",
        "    \"afghanistan\" : 30.55,\n",
        "    \"albania\" : 2.77,\n",
        "    \"algeria\" : 39.21\n",
        "}"
      ],
      "metadata": {
        "id": "3mTG6OF_qreY"
      },
      "execution_count": 21,
      "outputs": []
    },
    {
      "cell_type": "code",
      "source": [
        "for key, value in world.items():\n",
        "  print(key + \" : \" + str(value))"
      ],
      "metadata": {
        "colab": {
          "base_uri": "https://localhost:8080/"
        },
        "id": "Z8su9Q0hqxRw",
        "outputId": "8cacac4c-67f1-4df3-c3c8-e56bddbdf7a3"
      },
      "execution_count": 22,
      "outputs": [
        {
          "output_type": "stream",
          "name": "stdout",
          "text": [
            "afghanistan : 30.55\n",
            "albania : 2.77\n",
            "algeria : 39.21\n"
          ]
        }
      ]
    },
    {
      "cell_type": "markdown",
      "source": [
        "## practice questions"
      ],
      "metadata": {
        "id": "ARODRhCtq5lL"
      }
    },
    {
      "cell_type": "code",
      "source": [
        "length = input(\"enter rectangle length: \")\n",
        "breadth = input(\"enter rectangle breadth: \")\n",
        "\n",
        "if (length == breadth):\n",
        "  print(\"it is a square!\")\n",
        "else:\n",
        "  print(\"rectangle\")"
      ],
      "metadata": {
        "colab": {
          "base_uri": "https://localhost:8080/"
        },
        "id": "IJrJTF31q3Tx",
        "outputId": "3031b87b-d592-4dea-8b6e-013eba6966a3"
      },
      "execution_count": 24,
      "outputs": [
        {
          "output_type": "stream",
          "name": "stdout",
          "text": [
            "enter rectangle length: 21\n",
            "enter rectangle breadth: 21\n",
            "it is a square!\n"
          ]
        }
      ]
    },
    {
      "cell_type": "code",
      "source": [
        "num1 = input(\"enter a number: \")\n",
        "num2 = input(\"enter another number: \")\n",
        "num1 = int(num1)\n",
        "num2 = int(num2)\n",
        "\n",
        "if num1 > num2:\n",
        "  print(str(num1) + \" is the greater of 'em all\")\n",
        "elif num2 > num1:\n",
        "  print(str(num2) + \" is the greater of 'em all\")\n",
        "else:\n",
        "  print(\"hey! you entered duplicates\")"
      ],
      "metadata": {
        "colab": {
          "base_uri": "https://localhost:8080/"
        },
        "id": "2M-nDkrFq_9n",
        "outputId": "e0fc51a5-bf59-434e-9852-82409d3f6d2f"
      },
      "execution_count": 30,
      "outputs": [
        {
          "output_type": "stream",
          "name": "stdout",
          "text": [
            "enter a number: 1\n",
            "enter another number: 1\n",
            "hey! you entered duplicates\n"
          ]
        }
      ]
    },
    {
      "cell_type": "code",
      "source": [
        "age = input(\"how old please? \")\n",
        "age = int(age)\n",
        "\n",
        "if age >= 18:\n",
        "  print(\"proceed to cast your vote\")\n",
        "else:\n",
        "  print(\"nah, not you yet\")"
      ],
      "metadata": {
        "colab": {
          "base_uri": "https://localhost:8080/"
        },
        "id": "Fbqx6DIHrLYB",
        "outputId": "b14fe43b-a262-4385-cd67-f9c1df30a4b9"
      },
      "execution_count": 31,
      "outputs": [
        {
          "output_type": "stream",
          "name": "stdout",
          "text": [
            "how old please? 17\n",
            "nah, not you yet\n"
          ]
        }
      ]
    },
    {
      "cell_type": "code",
      "source": [
        "dictionary = {\n",
        "    0 : 10,\n",
        "    1 : 20\n",
        "}\n",
        "\n",
        "dictionary[2] = 30\n",
        "print(dictionary)"
      ],
      "metadata": {
        "colab": {
          "base_uri": "https://localhost:8080/"
        },
        "id": "j9RSOpIKs0FM",
        "outputId": "d22180a8-b4c7-44e8-ea4a-4b523d44ae5d"
      },
      "execution_count": 32,
      "outputs": [
        {
          "output_type": "stream",
          "name": "stdout",
          "text": [
            "{0: 10, 1: 20, 2: 30}\n"
          ]
        }
      ]
    },
    {
      "cell_type": "code",
      "source": [
        "keys = [\"ten\", \"twenty\", \"thirty\"]\n",
        "values = [10, 20, 30]\n",
        "d = {}\n",
        "\n",
        "for i in range(len(keys)):\n",
        "  d[keys[i]] = values[i]\n",
        "\n",
        "print(d)"
      ],
      "metadata": {
        "colab": {
          "base_uri": "https://localhost:8080/"
        },
        "id": "OLOKaRf_s-c9",
        "outputId": "99ba1b63-8de5-4a2d-bc7f-da685d0b4fe5"
      },
      "execution_count": 37,
      "outputs": [
        {
          "output_type": "stream",
          "name": "stdout",
          "text": [
            "{'ten': 10, 'twenty': 20, 'thirty': 30}\n"
          ]
        }
      ]
    },
    {
      "cell_type": "code",
      "source": [
        "sampleDict = {\n",
        "    \"class\" : {\n",
        "        \"student\" : {\n",
        "            \"name\" : \"Mike\",\n",
        "            \"marks\" : {\n",
        "                \"physics\" : 70,\n",
        "                \"history\" : 80\n",
        "                }\n",
        "            }\n",
        "        }\n",
        "    }\n",
        "\n",
        "sampleDict[\"class\"][\"student\"][\"marks\"][\"history\"]"
      ],
      "metadata": {
        "colab": {
          "base_uri": "https://localhost:8080/"
        },
        "id": "NOmrObXbta2y",
        "outputId": "86362a16-b177-4ffb-8389-d304d09acbf1"
      },
      "execution_count": 39,
      "outputs": [
        {
          "output_type": "execute_result",
          "data": {
            "text/plain": [
              "80"
            ]
          },
          "metadata": {},
          "execution_count": 39
        }
      ]
    },
    {
      "cell_type": "code",
      "source": [
        "inventory = {\n",
        "    \"gold\" : 500,\n",
        "    \"pouch\" : [\"flint\", \"twine\", \"gemstone\"],\n",
        "    \"backpack\" : [\"xylophone\", \"dagger\", \"bedroll\", \"bread loaf\"]\n",
        "}\n",
        "\n",
        "inventory[\"pocket\"] = [\"seashell\", \"strange berry\", \"lint\"]\n",
        "print(inventory)"
      ],
      "metadata": {
        "colab": {
          "base_uri": "https://localhost:8080/"
        },
        "id": "GbJmaXJ0uSqr",
        "outputId": "85ca1494-d1b6-4f0c-86af-4a25ad6f76d7"
      },
      "execution_count": 41,
      "outputs": [
        {
          "output_type": "stream",
          "name": "stdout",
          "text": [
            "{'gold': 500, 'pouch': ['flint', 'twine', 'gemstone'], 'backpack': ['xylophone', 'dagger', 'bedroll', 'bread loaf'], 'pocket': ['seashell', 'strange berry', 'lint']}\n"
          ]
        }
      ]
    },
    {
      "cell_type": "code",
      "source": [
        "inventory[\"backpack\"].sort()\n",
        "print(inventory[\"backpack\"])"
      ],
      "metadata": {
        "colab": {
          "base_uri": "https://localhost:8080/"
        },
        "id": "-B080tHquv_v",
        "outputId": "9c9af297-c901-4153-9ba7-d611f285d5c4"
      },
      "execution_count": 42,
      "outputs": [
        {
          "output_type": "stream",
          "name": "stdout",
          "text": [
            "['bedroll', 'bread loaf', 'dagger', 'xylophone']\n"
          ]
        }
      ]
    },
    {
      "cell_type": "code",
      "source": [
        "inventory[\"backpack\"].remove(\"dagger\")\n",
        "print(inventory[\"backpack\"])"
      ],
      "metadata": {
        "colab": {
          "base_uri": "https://localhost:8080/"
        },
        "id": "r1_TwLxiuz7P",
        "outputId": "f812d6dc-bc8a-4ccf-ec10-6dfa2a28d1f4"
      },
      "execution_count": 43,
      "outputs": [
        {
          "output_type": "stream",
          "name": "stdout",
          "text": [
            "['bedroll', 'bread loaf', 'xylophone']\n"
          ]
        }
      ]
    },
    {
      "cell_type": "code",
      "source": [
        "inventory[\"gold\"] += 50\n",
        "print(inventory[\"gold\"])"
      ],
      "metadata": {
        "colab": {
          "base_uri": "https://localhost:8080/"
        },
        "id": "73Rqh9jju752",
        "outputId": "378991d6-033d-4a4f-a96c-70b877d20cfb"
      },
      "execution_count": 44,
      "outputs": [
        {
          "output_type": "stream",
          "name": "stdout",
          "text": [
            "550\n"
          ]
        }
      ]
    },
    {
      "cell_type": "markdown",
      "source": [
        "## quiz questions"
      ],
      "metadata": {
        "id": "w1Tl6gyuvZUJ"
      }
    },
    {
      "cell_type": "code",
      "source": [
        "for num in range(10, 14):\n",
        "  for i in range(2, num):\n",
        "    if num % i == 1:\n",
        "      print(num)\n",
        "      break"
      ],
      "metadata": {
        "colab": {
          "base_uri": "https://localhost:8080/"
        },
        "id": "7G4YODf4vPoe",
        "outputId": "d05c524f-1458-4933-bebe-8c86b664d7f5"
      },
      "execution_count": 46,
      "outputs": [
        {
          "output_type": "stream",
          "name": "stdout",
          "text": [
            "10\n",
            "11\n",
            "12\n",
            "13\n"
          ]
        }
      ]
    },
    {
      "cell_type": "code",
      "source": [
        "x = 0\n",
        "a = 0\n",
        "b = -5\n",
        "\n",
        "if (a > 0):\n",
        "  if (b < 0):\n",
        "    x += 5\n",
        "  elif (a > 5):\n",
        "    x += 4\n",
        "  else:\n",
        "    x += 3\n",
        "else:\n",
        "  x += 2\n",
        "\n",
        "print(x)"
      ],
      "metadata": {
        "colab": {
          "base_uri": "https://localhost:8080/"
        },
        "id": "BMQRCFONvVu3",
        "outputId": "ebace6b8-27e2-4683-add7-91ed977bd5cf"
      },
      "execution_count": 47,
      "outputs": [
        {
          "output_type": "stream",
          "name": "stdout",
          "text": [
            "2\n"
          ]
        }
      ]
    },
    {
      "cell_type": "code",
      "source": [
        "var = 10\n",
        "for i in range(10):\n",
        "  for j in range(2, 10, 1):\n",
        "    if var % 2 == 0:\n",
        "      continue\n",
        "      var += 1\n",
        "      var += 1\n",
        "    else:\n",
        "      var += 1\n",
        "print(var)"
      ],
      "metadata": {
        "colab": {
          "base_uri": "https://localhost:8080/"
        },
        "id": "GymiOp3gvr2B",
        "outputId": "42719fe7-5a3c-4a3d-c227-1f865eaaaaf5"
      },
      "execution_count": 48,
      "outputs": [
        {
          "output_type": "stream",
          "name": "stdout",
          "text": [
            "10\n"
          ]
        }
      ]
    }
  ]
}