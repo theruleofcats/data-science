{
  "nbformat": 4,
  "nbformat_minor": 0,
  "metadata": {
    "colab": {
      "provenance": [],
      "authorship_tag": "ABX9TyP5/5at/ozeMiybUkp++g4r",
      "include_colab_link": true
    },
    "kernelspec": {
      "name": "python3",
      "display_name": "Python 3"
    },
    "language_info": {
      "name": "python"
    }
  },
  "cells": [
    {
      "cell_type": "markdown",
      "metadata": {
        "id": "view-in-github",
        "colab_type": "text"
      },
      "source": [
        "<a href=\"https://colab.research.google.com/github/theruleofcats/data-science/blob/main/data-science-bootcamp/week-0/03-python-loops.ipynb\" target=\"_parent\"><img src=\"https://colab.research.google.com/assets/colab-badge.svg\" alt=\"Open In Colab\"/></a>"
      ]
    },
    {
      "cell_type": "markdown",
      "source": [
        "## for loops"
      ],
      "metadata": {
        "id": "cN1xReYp8zIC"
      }
    },
    {
      "cell_type": "code",
      "source": [
        "a = [\"banana\", \"apple\", \"microsoft\"]"
      ],
      "metadata": {
        "id": "-FY7ogtx80vK"
      },
      "execution_count": null,
      "outputs": []
    },
    {
      "cell_type": "code",
      "source": [
        "print(a[0])\n",
        "print(a[1])\n",
        "print(a[2])"
      ],
      "metadata": {
        "colab": {
          "base_uri": "https://localhost:8080/"
        },
        "id": "K5y34esT868x",
        "outputId": "5310d948-c0be-4395-8550-6d307bf87f48"
      },
      "execution_count": null,
      "outputs": [
        {
          "output_type": "stream",
          "name": "stdout",
          "text": [
            "banana\n",
            "apple\n",
            "microsoft\n"
          ]
        }
      ]
    },
    {
      "cell_type": "code",
      "source": [
        "for element in a:\n",
        "  print(element)\n",
        "  print(element)"
      ],
      "metadata": {
        "colab": {
          "base_uri": "https://localhost:8080/"
        },
        "id": "_K9gJw8i87zb",
        "outputId": "b9022766-dd8a-4583-f1c5-7cba1c1b50ce"
      },
      "execution_count": null,
      "outputs": [
        {
          "output_type": "stream",
          "name": "stdout",
          "text": [
            "banana\n",
            "banana\n",
            "apple\n",
            "apple\n",
            "microsoft\n",
            "microsoft\n"
          ]
        }
      ]
    },
    {
      "cell_type": "code",
      "source": [
        "b = [20, 10, 5]"
      ],
      "metadata": {
        "id": "zkZH2Ius9E_t"
      },
      "execution_count": null,
      "outputs": []
    },
    {
      "cell_type": "code",
      "source": [
        "total = 0\n",
        "for number in b:\n",
        "  total = total + number\n",
        "print(total)"
      ],
      "metadata": {
        "colab": {
          "base_uri": "https://localhost:8080/"
        },
        "id": "FsmMvs6t9MI9",
        "outputId": "3f025ca7-c47b-46f7-da0d-62bd855a42fc"
      },
      "execution_count": null,
      "outputs": [
        {
          "output_type": "stream",
          "name": "stdout",
          "text": [
            "35\n"
          ]
        }
      ]
    },
    {
      "cell_type": "code",
      "source": [
        "c = list(range(1, 5))\n",
        "print(c)"
      ],
      "metadata": {
        "colab": {
          "base_uri": "https://localhost:8080/"
        },
        "id": "iS5TaKGC9eKj",
        "outputId": "dcd60b23-c407-46ee-cdb1-a6750ed2c472"
      },
      "execution_count": null,
      "outputs": [
        {
          "output_type": "stream",
          "name": "stdout",
          "text": [
            "[1, 2, 3, 4]\n"
          ]
        }
      ]
    },
    {
      "cell_type": "code",
      "source": [
        "for i in range(1, 5):\n",
        "  print(i)"
      ],
      "metadata": {
        "colab": {
          "base_uri": "https://localhost:8080/"
        },
        "id": "s07jswXe9rjc",
        "outputId": "68ec1b8f-bd2f-41d4-963f-8597be1183ed"
      },
      "execution_count": null,
      "outputs": [
        {
          "output_type": "stream",
          "name": "stdout",
          "text": [
            "1\n",
            "2\n",
            "3\n",
            "4\n"
          ]
        }
      ]
    },
    {
      "cell_type": "code",
      "source": [
        "total2 = 0\n",
        "for i in range(1, 5):\n",
        "  total2 = total2 + i\n",
        "print(total2)"
      ],
      "metadata": {
        "colab": {
          "base_uri": "https://localhost:8080/"
        },
        "id": "xYAn1GKL9vMR",
        "outputId": "4642b9a5-74e4-4497-8fd5-9d6ed3de14df"
      },
      "execution_count": null,
      "outputs": [
        {
          "output_type": "stream",
          "name": "stdout",
          "text": [
            "10\n"
          ]
        }
      ]
    },
    {
      "cell_type": "code",
      "source": [
        "list(range(1, 8))"
      ],
      "metadata": {
        "colab": {
          "base_uri": "https://localhost:8080/"
        },
        "id": "cuLWZZmB93fI",
        "outputId": "09c34b83-bb50-4698-acb5-022c3aa65143"
      },
      "execution_count": null,
      "outputs": [
        {
          "output_type": "execute_result",
          "data": {
            "text/plain": [
              "[1, 2, 3, 4, 5, 6, 7]"
            ]
          },
          "metadata": {},
          "execution_count": 9
        }
      ]
    },
    {
      "cell_type": "code",
      "source": [
        "total3 = 0\n",
        "for i in range(1, 8):\n",
        "  if i % 3 == 0:\n",
        "    total3 += i\n",
        "print(total3)"
      ],
      "metadata": {
        "colab": {
          "base_uri": "https://localhost:8080/"
        },
        "id": "NCHVjUf6-CJJ",
        "outputId": "36f6b838-d693-477f-c02e-f301d4365dbc"
      },
      "execution_count": null,
      "outputs": [
        {
          "output_type": "stream",
          "name": "stdout",
          "text": [
            "9\n"
          ]
        }
      ]
    },
    {
      "cell_type": "code",
      "source": [
        "print(list(range(1, 100)))"
      ],
      "metadata": {
        "colab": {
          "base_uri": "https://localhost:8080/"
        },
        "id": "XK9sfYlMAa8-",
        "outputId": "cfbc06ce-85a6-4df7-a46c-b689b4a338ac"
      },
      "execution_count": null,
      "outputs": [
        {
          "output_type": "stream",
          "name": "stdout",
          "text": [
            "[1, 2, 3, 4, 5, 6, 7, 8, 9, 10, 11, 12, 13, 14, 15, 16, 17, 18, 19, 20, 21, 22, 23, 24, 25, 26, 27, 28, 29, 30, 31, 32, 33, 34, 35, 36, 37, 38, 39, 40, 41, 42, 43, 44, 45, 46, 47, 48, 49, 50, 51, 52, 53, 54, 55, 56, 57, 58, 59, 60, 61, 62, 63, 64, 65, 66, 67, 68, 69, 70, 71, 72, 73, 74, 75, 76, 77, 78, 79, 80, 81, 82, 83, 84, 85, 86, 87, 88, 89, 90, 91, 92, 93, 94, 95, 96, 97, 98, 99]\n"
          ]
        }
      ]
    },
    {
      "cell_type": "code",
      "source": [
        "sum = 0\n",
        "for i in range(1, 100):\n",
        "  if i % 3 == 0 or i % 5 == 0:\n",
        "    sum += i\n",
        "print(sum)"
      ],
      "metadata": {
        "id": "ggMyl5mf-NwE",
        "colab": {
          "base_uri": "https://localhost:8080/"
        },
        "outputId": "830821b6-3d1e-4e61-f165-fa46e27dc1b9"
      },
      "execution_count": null,
      "outputs": [
        {
          "output_type": "stream",
          "name": "stdout",
          "text": [
            "2318\n"
          ]
        }
      ]
    },
    {
      "cell_type": "code",
      "source": [
        "fam_heights = [1.73, 1.68, 1.71, 1.89]\n",
        "for height in fam_heights:\n",
        "  print(height)"
      ],
      "metadata": {
        "colab": {
          "base_uri": "https://localhost:8080/"
        },
        "id": "gWl3L--3AkO7",
        "outputId": "89879fdb-a002-418d-a7cf-8b398d38f413"
      },
      "execution_count": null,
      "outputs": [
        {
          "output_type": "stream",
          "name": "stdout",
          "text": [
            "1.73\n",
            "1.68\n",
            "1.71\n",
            "1.89\n"
          ]
        }
      ]
    },
    {
      "cell_type": "code",
      "source": [
        "for i in \"apple\":\n",
        "  print(i)"
      ],
      "metadata": {
        "colab": {
          "base_uri": "https://localhost:8080/"
        },
        "id": "BfGh4WjlArd6",
        "outputId": "339c9147-e05d-4c51-ce7c-eb3f24475705"
      },
      "execution_count": null,
      "outputs": [
        {
          "output_type": "stream",
          "name": "stdout",
          "text": [
            "a\n",
            "p\n",
            "p\n",
            "l\n",
            "e\n"
          ]
        }
      ]
    },
    {
      "cell_type": "code",
      "source": [
        "for c in \"family\":\n",
        "  print(c.capitalize())"
      ],
      "metadata": {
        "colab": {
          "base_uri": "https://localhost:8080/"
        },
        "id": "bycsLY6KAvcK",
        "outputId": "cea34739-645a-48d7-b406-0e3d9adcc7ad"
      },
      "execution_count": null,
      "outputs": [
        {
          "output_type": "stream",
          "name": "stdout",
          "text": [
            "F\n",
            "A\n",
            "M\n",
            "I\n",
            "L\n",
            "Y\n"
          ]
        }
      ]
    },
    {
      "cell_type": "code",
      "source": [
        "# enumerate\n",
        "\n",
        "for index, height in enumerate(fam_heights):\n",
        "  print(\"index \" + str(index) + \" : \" + str(height))"
      ],
      "metadata": {
        "colab": {
          "base_uri": "https://localhost:8080/"
        },
        "id": "vcGmvIUyAzVx",
        "outputId": "fa400bf9-4279-4c2e-e8e5-e0f42c0c7c46"
      },
      "execution_count": null,
      "outputs": [
        {
          "output_type": "stream",
          "name": "stdout",
          "text": [
            "index 0 : 1.73\n",
            "index 1 : 1.68\n",
            "index 2 : 1.71\n",
            "index 3 : 1.89\n"
          ]
        }
      ]
    },
    {
      "cell_type": "markdown",
      "source": [
        "## while loop"
      ],
      "metadata": {
        "id": "G9yWp2wIBEFh"
      }
    },
    {
      "cell_type": "code",
      "source": [
        "total = 0\n",
        "for i in range(1, 5):\n",
        "  total += i\n",
        "print(total)"
      ],
      "metadata": {
        "colab": {
          "base_uri": "https://localhost:8080/"
        },
        "id": "mZKcvH2kBDP2",
        "outputId": "04f3e906-6fc7-4bd6-f4b9-60ebbf26bbe7"
      },
      "execution_count": null,
      "outputs": [
        {
          "output_type": "stream",
          "name": "stdout",
          "text": [
            "10\n"
          ]
        }
      ]
    },
    {
      "cell_type": "code",
      "source": [
        "total2 = 0\n",
        "j = 1\n",
        "\n",
        "while j < 5:\n",
        "  total2 += j\n",
        "  j += 1\n",
        "\n",
        "print(total)"
      ],
      "metadata": {
        "colab": {
          "base_uri": "https://localhost:8080/"
        },
        "id": "FXgJr7XfBS_8",
        "outputId": "2b0c2254-ea0b-4eee-e297-af0d0636ac67"
      },
      "execution_count": null,
      "outputs": [
        {
          "output_type": "stream",
          "name": "stdout",
          "text": [
            "10\n"
          ]
        }
      ]
    },
    {
      "cell_type": "code",
      "source": [
        "given_list = [5, 4, 4, 3, 1, -2, -3, -5]\n",
        "total3 = 0\n",
        "index = 0\n",
        "\n",
        "while given_list[index] > 0:\n",
        "  total3 += given_list[index]\n",
        "  index += 1\n",
        "\n",
        "print(total3)"
      ],
      "metadata": {
        "colab": {
          "base_uri": "https://localhost:8080/"
        },
        "id": "BJLX7mM6CBhh",
        "outputId": "5dd5bc63-4f44-46c5-9b65-a88c1a9f22ca"
      },
      "execution_count": null,
      "outputs": [
        {
          "output_type": "stream",
          "name": "stdout",
          "text": [
            "17\n"
          ]
        }
      ]
    },
    {
      "cell_type": "code",
      "source": [
        "given_list = [5, 4, 4, 3, 1]\n",
        "total3 = 0\n",
        "index = 0\n",
        "\n",
        "while index < len(given_list) and given_list[index] > 0:\n",
        "  total3 += given_list[index]\n",
        "  index += 1\n",
        "\n",
        "print(total3)"
      ],
      "metadata": {
        "colab": {
          "base_uri": "https://localhost:8080/"
        },
        "id": "EZ68iLgYCW_g",
        "outputId": "631a9321-76a3-4228-a83f-a7127ed909f1"
      },
      "execution_count": null,
      "outputs": [
        {
          "output_type": "stream",
          "name": "stdout",
          "text": [
            "17\n"
          ]
        }
      ]
    },
    {
      "cell_type": "markdown",
      "source": [
        "## break statement"
      ],
      "metadata": {
        "id": "wMng89zbCp0U"
      }
    },
    {
      "cell_type": "code",
      "source": [
        "given_list2 = [5, 4, 4, 3, 1, -2, -3, -5]\n",
        "total4 = 0\n",
        "\n",
        "for element in given_list2:\n",
        "  total4 += element\n",
        "\n",
        "print(total4)"
      ],
      "metadata": {
        "colab": {
          "base_uri": "https://localhost:8080/"
        },
        "id": "cTlJEBXiCyab",
        "outputId": "a12c2234-39e0-4717-b93d-3df18052f592"
      },
      "execution_count": null,
      "outputs": [
        {
          "output_type": "stream",
          "name": "stdout",
          "text": [
            "7\n"
          ]
        }
      ]
    },
    {
      "cell_type": "code",
      "source": [
        "given_list2 = [5, 4, 4, 3, 1, -2, -3, -5]\n",
        "total4 = 0\n",
        "\n",
        "for element in given_list2:\n",
        "  if element <= 0:\n",
        "    break\n",
        "  total4 += element\n",
        "\n",
        "print(total4)"
      ],
      "metadata": {
        "colab": {
          "base_uri": "https://localhost:8080/"
        },
        "id": "yhhCwx5VDBfL",
        "outputId": "9f299f57-cffa-4fea-a9ab-a2906d6cfa9a"
      },
      "execution_count": null,
      "outputs": [
        {
          "output_type": "stream",
          "name": "stdout",
          "text": [
            "17\n"
          ]
        }
      ]
    },
    {
      "cell_type": "code",
      "source": [
        "total5 = 0\n",
        "index = 0\n",
        "\n",
        "while True:\n",
        "  total5 += given_list2[index]\n",
        "  index += 1\n",
        "  if given_list2[index] <= 0:\n",
        "    break\n",
        "\n",
        "print(total5)"
      ],
      "metadata": {
        "colab": {
          "base_uri": "https://localhost:8080/"
        },
        "id": "nV7HYyByDFqj",
        "outputId": "075906a2-d670-4c9d-b5a9-17ac6b2667bd"
      },
      "execution_count": null,
      "outputs": [
        {
          "output_type": "stream",
          "name": "stdout",
          "text": [
            "17\n"
          ]
        }
      ]
    },
    {
      "cell_type": "code",
      "source": [
        "given_list3 = [7, 5, 4, 4, 3, 1, -2, -3, -5, -7]\n",
        "negative_sum = 0\n",
        "\n",
        "for element in given_list3:\n",
        "  if element < 0:\n",
        "    negative_sum += element\n",
        "\n",
        "print(negative_sum)"
      ],
      "metadata": {
        "colab": {
          "base_uri": "https://localhost:8080/"
        },
        "id": "8ff5GoB6Dww4",
        "outputId": "db0cb635-d404-42ff-9025-3f4cf5774040"
      },
      "execution_count": null,
      "outputs": [
        {
          "output_type": "stream",
          "name": "stdout",
          "text": [
            "-17\n"
          ]
        }
      ]
    },
    {
      "cell_type": "code",
      "source": [
        "x = 1\n",
        "while x < 4:\n",
        "  print(x)\n",
        "  x = x + 1"
      ],
      "metadata": {
        "colab": {
          "base_uri": "https://localhost:8080/"
        },
        "id": "HpyVuWekEMXm",
        "outputId": "d4fbc337-a350-42ca-f9bd-5f88326e4a1f"
      },
      "execution_count": null,
      "outputs": [
        {
          "output_type": "stream",
          "name": "stdout",
          "text": [
            "1\n",
            "2\n",
            "3\n"
          ]
        }
      ]
    },
    {
      "cell_type": "markdown",
      "source": [
        "## range function"
      ],
      "metadata": {
        "id": "G-y5Hah5EzLd"
      }
    },
    {
      "cell_type": "code",
      "source": [
        "for i in range(5):\n",
        "  print(i, end = \", \")"
      ],
      "metadata": {
        "colab": {
          "base_uri": "https://localhost:8080/"
        },
        "id": "Xn-Ex2EZEe1E",
        "outputId": "221f11fd-9ec9-49f8-877b-726ab7581f83"
      },
      "execution_count": null,
      "outputs": [
        {
          "output_type": "stream",
          "name": "stdout",
          "text": [
            "0, 1, 2, 3, 4, "
          ]
        }
      ]
    },
    {
      "cell_type": "code",
      "source": [
        "for i in range(5, 10):\n",
        "  print(i, end = \", \")"
      ],
      "metadata": {
        "colab": {
          "base_uri": "https://localhost:8080/"
        },
        "id": "EcdqjE_wEskL",
        "outputId": "62de7044-54b8-40cd-eaa4-e103919abe3f"
      },
      "execution_count": null,
      "outputs": [
        {
          "output_type": "stream",
          "name": "stdout",
          "text": [
            "5, 6, 7, 8, 9, "
          ]
        }
      ]
    },
    {
      "cell_type": "code",
      "source": [
        "print(\"printing all even numbers between 2 and 10 using range\")\n",
        "for i in range(2, 10, 2):\n",
        "  print(i, end = \", \")"
      ],
      "metadata": {
        "colab": {
          "base_uri": "https://localhost:8080/"
        },
        "id": "B4dTxQIBE28X",
        "outputId": "88c912de-09e5-4658-bf91-02d1163baf84"
      },
      "execution_count": null,
      "outputs": [
        {
          "output_type": "stream",
          "name": "stdout",
          "text": [
            "printing all even numbers between 2 and 10 using range\n",
            "2, 4, 6, 8, "
          ]
        }
      ]
    },
    {
      "cell_type": "markdown",
      "source": [
        "## exercises"
      ],
      "metadata": {
        "id": "MI0l0BYHFGoD"
      }
    },
    {
      "cell_type": "code",
      "source": [
        "numbers = list(range(1, 11))\n",
        "index = 0\n",
        "\n",
        "while index < len(numbers):\n",
        "  print(numbers[index])\n",
        "  index += 1"
      ],
      "metadata": {
        "colab": {
          "base_uri": "https://localhost:8080/"
        },
        "id": "pd8Qw3gDE-2Z",
        "outputId": "7fc24c6d-1f44-4bca-9bb7-4ea037540de6"
      },
      "execution_count": null,
      "outputs": [
        {
          "output_type": "stream",
          "name": "stdout",
          "text": [
            "1\n",
            "2\n",
            "3\n",
            "4\n",
            "5\n",
            "6\n",
            "7\n",
            "8\n",
            "9\n",
            "10\n"
          ]
        }
      ]
    },
    {
      "cell_type": "code",
      "source": [
        "list1 = [12, 15, 32, 42, 55, 75, 122, 132, 150, 180, 200]\n",
        "for element in list1:\n",
        "  print(element)"
      ],
      "metadata": {
        "colab": {
          "base_uri": "https://localhost:8080/"
        },
        "id": "m_W3yF5VFUKZ",
        "outputId": "7cf1c95d-5963-4b95-c815-90e599480551"
      },
      "execution_count": null,
      "outputs": [
        {
          "output_type": "stream",
          "name": "stdout",
          "text": [
            "12\n",
            "15\n",
            "32\n",
            "42\n",
            "55\n",
            "75\n",
            "122\n",
            "132\n",
            "150\n",
            "180\n",
            "200\n"
          ]
        }
      ]
    },
    {
      "cell_type": "code",
      "source": [
        "number = input(\"enter a number: \")\n",
        "number = int(number)\n",
        "\n",
        "for index in range(1, 11):\n",
        "  print(str(number) + \" x \" + str(index) + \" = \" + str(number * index))"
      ],
      "metadata": {
        "colab": {
          "base_uri": "https://localhost:8080/"
        },
        "id": "beOr9M73FewW",
        "outputId": "a7822ca2-0dd9-47cd-ed74-61a4ceb96fa2"
      },
      "execution_count": null,
      "outputs": [
        {
          "output_type": "stream",
          "name": "stdout",
          "text": [
            "enter a number: 2\n",
            "2 x 1 = 2\n",
            "2 x 2 = 4\n",
            "2 x 3 = 6\n",
            "2 x 4 = 8\n",
            "2 x 5 = 10\n",
            "2 x 6 = 12\n",
            "2 x 7 = 14\n",
            "2 x 8 = 16\n",
            "2 x 9 = 18\n",
            "2 x 10 = 20\n"
          ]
        }
      ]
    },
    {
      "cell_type": "code",
      "source": [
        "grocery = [\"bread\", \"milk\", \"butter\"]\n",
        "for index, item in enumerate(grocery):\n",
        "  print(\"item \" + str(index) + \" : \" + item)"
      ],
      "metadata": {
        "colab": {
          "base_uri": "https://localhost:8080/"
        },
        "id": "ptHnJzDHFlZf",
        "outputId": "597cf583-40df-4e87-8eae-b17b26ffc4cf"
      },
      "execution_count": null,
      "outputs": [
        {
          "output_type": "stream",
          "name": "stdout",
          "text": [
            "item 0 : bread\n",
            "item 1 : milk\n",
            "item 2 : butter\n"
          ]
        }
      ]
    },
    {
      "cell_type": "code",
      "source": [
        "number = input(\"enter a number: \")\n",
        "number = int(number)\n",
        "sum = 0\n",
        "\n",
        "for num in range(1, number):\n",
        "  sum += num\n",
        "\n",
        "print(sum)"
      ],
      "metadata": {
        "colab": {
          "base_uri": "https://localhost:8080/"
        },
        "id": "746vNTuSGifE",
        "outputId": "390d3637-4112-4070-e5a8-f54ea57db1dc"
      },
      "execution_count": null,
      "outputs": [
        {
          "output_type": "stream",
          "name": "stdout",
          "text": [
            "enter a number: 3\n",
            "3\n"
          ]
        }
      ]
    },
    {
      "cell_type": "code",
      "source": [
        "sequence = list(range(3, 6))\n",
        "for item in sequence:\n",
        "  print(item)"
      ],
      "metadata": {
        "colab": {
          "base_uri": "https://localhost:8080/"
        },
        "id": "6Rnr5qMOGzsJ",
        "outputId": "8f7bc2b5-4bf6-4575-ac6a-51577eb5af08"
      },
      "execution_count": null,
      "outputs": [
        {
          "output_type": "stream",
          "name": "stdout",
          "text": [
            "3\n",
            "4\n",
            "5\n"
          ]
        }
      ]
    },
    {
      "cell_type": "code",
      "source": [
        "sequence = list(range(3, 20, 2))\n",
        "for item in sequence:\n",
        "  print(item)"
      ],
      "metadata": {
        "colab": {
          "base_uri": "https://localhost:8080/"
        },
        "id": "u7MyrI5RHABC",
        "outputId": "84f678cf-ebfa-4ced-8b35-59a45373aaaf"
      },
      "execution_count": null,
      "outputs": [
        {
          "output_type": "stream",
          "name": "stdout",
          "text": [
            "3\n",
            "5\n",
            "7\n",
            "9\n",
            "11\n",
            "13\n",
            "15\n",
            "17\n",
            "19\n"
          ]
        }
      ]
    },
    {
      "cell_type": "code",
      "source": [
        "string = \"Python\"\n",
        "for index in range(len(string)):\n",
        "  print(string[index], end = \", \")"
      ],
      "metadata": {
        "colab": {
          "base_uri": "https://localhost:8080/"
        },
        "id": "ROWryLswHFmv",
        "outputId": "94a088f8-b138-475f-fec6-e3b610b62118"
      },
      "execution_count": null,
      "outputs": [
        {
          "output_type": "stream",
          "name": "stdout",
          "text": [
            "P, y, t, h, o, n, "
          ]
        }
      ]
    }
  ]
}